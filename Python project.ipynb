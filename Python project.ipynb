{
 "cells": [
  {
   "cell_type": "code",
   "execution_count": 2,
   "id": "7b48ba45-5047-41e0-9e26-864069ee9576",
   "metadata": {},
   "outputs": [
    {
     "name": "stdout",
     "output_type": "stream",
     "text": [
      "Project DataFrame:\n",
      "       ID     Project     Cost    Status\n",
      "0   A001   Project 1  1002000  Finished\n",
      "1   A002   Project 2  2000000   Ongoing\n",
      "2   A003   Project 3  4500000  Finished\n",
      "3   A004   Project 4  5500000   Ongoing\n",
      "4   A005   Project 5           Finished\n",
      "5   A002   Project 6   680000    Failed\n",
      "6   A005   Project 7   400000  Finished\n",
      "7   A003   Project 8   350000    Failed\n",
      "8   A001   Project 9            Ongoing\n",
      "9   A003  Project 10   300000  Finished\n",
      "10  A001  Project 11  2000000    Failed\n",
      "11  A004  Project 12  1000000   Ongoing\n",
      "12  A004  Project 13  3000000  Finished\n",
      "13  A005  Project 14   200000  Finished\n",
      "\n",
      "Employee DataFrame:\n",
      "      ID             Name Gender     City  Age\n",
      "0  A001       John Alter      M    Paris   25\n",
      "1  A002  Alice Luxumberg      F   London   27\n",
      "2  A003    Tom Sabestine      M   Berlin   29\n",
      "3  A004       Nina Adgra      F  Newyork   31\n",
      "4  A005        Amy Johny      F   Madrid   30\n",
      "\n",
      "Seniority Level DataFrame:\n",
      "      ID  Designation Level\n",
      "0  A001                  2\n",
      "1  A002                  2\n",
      "2  A003                  3\n",
      "3  A004                  2\n",
      "4  A005                  3\n"
     ]
    }
   ],
   "source": [
    "#Task 1:There are three different tables as given above. Please make three dataframe in python and save them as three .csv files. From Task 2 to Task 10, use the saved .csv files only.\n",
    "\n",
    "import pandas as pd\n",
    "import numpy as np\n",
    "\n",
    "# Creating the first dataframe 'Project DataFrame'\n",
    "project_data = {\n",
    "    'ID': ['A001', 'A002', 'A003', 'A004', 'A005', 'A002', 'A005', 'A003', 'A001', 'A003', 'A001', 'A004', 'A004', 'A005'],\n",
    "    'Project': ['Project 1', 'Project 2', 'Project 3', 'Project 4', 'Project 5', 'Project 6', 'Project 7', 'Project 8', 'Project 9', \n",
    "                'Project 10', 'Project 11', 'Project 12', 'Project 13', 'Project 14'],\n",
    "    'Cost': [1002000, 2000000, 4500000, 5500000,'   ', 680000, 400000, 350000, '    ', 300000, 2000000, 1000000, 3000000, 200000],\n",
    "    'Status': ['Finished', 'Ongoing', 'Finished', 'Ongoing', 'Finished', 'Failed', 'Finished', 'Failed', 'Ongoing', 'Finished', \n",
    "               'Failed', 'Ongoing', 'Finished', 'Finished']\n",
    "}\n",
    "project_df = pd.DataFrame(project_data)\n",
    "\n",
    "# Creating the second dataframe 'Employee DataFrame'\n",
    "employee_data = {\n",
    "    'ID': ['A001', 'A002', 'A003', 'A004', 'A005'],\n",
    "    'Name': ['John Alter', 'Alice Luxumberg', 'Tom Sabestine', 'Nina Adgra', 'Amy Johny'],\n",
    "    'Gender': ['M', 'F', 'M', 'F', 'F'],\n",
    "    'City': ['Paris', 'London', 'Berlin', 'Newyork', 'Madrid'],\n",
    "    'Age': [25, 27, 29, 31, 30]\n",
    "}\n",
    "employee_df = pd.DataFrame(employee_data)\n",
    "\n",
    "# Creating the third dataframe 'Seniority Level DataFrame'\n",
    "seniority_data = {\n",
    "    'ID': ['A001', 'A002', 'A003', 'A004', 'A005'],\n",
    "    'Designation Level': [2, 2, 3, 2, 3]\n",
    "}\n",
    "seniority_df = pd.DataFrame(seniority_data)\n",
    "\n",
    "# Display the dataframes\n",
    "print(\"Project DataFrame:\\n\", project_df)\n",
    "print(\"\\nEmployee DataFrame:\\n\", employee_df)\n",
    "print(\"\\nSeniority Level DataFrame:\\n\", seniority_df)"
   ]
  },
  {
   "cell_type": "code",
   "execution_count": 3,
   "id": "90654701-3c61-49a2-be9f-a5d52699bcc4",
   "metadata": {},
   "outputs": [],
   "source": [
    "# Saving the 'Project DataFrame' to a CSV file\n",
    "project_df.to_csv('project_dataframe.csv', index=False)\n",
    "\n",
    "# Saving the 'Employee DataFrame' to a CSV file\n",
    "employee_df.to_csv('employee_dataframe.csv', index=False)\n",
    "\n",
    "# Saving the 'Seniority Level DataFrame' to a CSV file\n",
    "seniority_df.to_csv('seniority_dataframe.csv', index=False)"
   ]
  },
  {
   "cell_type": "code",
   "execution_count": 18,
   "id": "f84a9288-ade8-487f-8b0e-ec19c0c4cffb",
   "metadata": {},
   "outputs": [],
   "source": [
    "# opening the 'Project DataFrame' we have saved\n",
    "df1 = pd.read_csv('project_dataframe.csv')\n",
    "df1"
   ]
  },
  {
   "cell_type": "code",
   "execution_count": 19,
   "id": "980550c5-4064-4f06-b366-56a89f5b8e6f",
   "metadata": {},
   "outputs": [],
   "source": [
    "# opening the 'Employee DataFrame' we have saved\n",
    "df2 = pd.read_csv('employee_dataframe.csv')\n",
    "df2"
   ]
  },
  {
   "cell_type": "code",
   "execution_count": 20,
   "id": "a84bc317-dcb0-4bd1-8c25-6af65e817755",
   "metadata": {},
   "outputs": [],
   "source": [
    "# opening the 'Seniority DataFrame' we have saved\n",
    "df3 = pd.read_csv('seniority_dataframe.csv')\n",
    "df3"
   ]
  },
  {
   "cell_type": "code",
   "execution_count": 22,
   "id": "439e4518-b398-4b39-8187-b3da3c5ac458",
   "metadata": {},
   "outputs": [
    {
     "name": "stdout",
     "output_type": "stream",
     "text": [
      "      ID     Project          Cost    Status\n",
      "0   A001   Project 1  1.002000e+06  Finished\n",
      "1   A002   Project 2  2.000000e+06   Ongoing\n",
      "2   A003   Project 3  4.500000e+06  Finished\n",
      "3   A004   Project 4  5.500000e+06   Ongoing\n",
      "4   A005   Project 5  3.250500e+06  Finished\n",
      "5   A002   Project 6  6.800000e+05    Failed\n",
      "6   A005   Project 7  4.000000e+05  Finished\n",
      "7   A003   Project 8  2.476071e+06    Failed\n",
      "8   A001   Project 9  8.000000e+05   Ongoing\n",
      "9   A003  Project 10  3.000000e+05  Finished\n",
      "10  A001  Project 11  2.000000e+06    Failed\n",
      "11  A004  Project 12  2.082597e+06   Ongoing\n",
      "12  A004  Project 13  3.000000e+06  Finished\n",
      "13  A005  Project 14  2.000000e+05  Finished\n"
     ]
    }
   ],
   "source": [
    "#Task 2\n",
    "# Sample data (with NaN as missing values)\n",
    "df1 = {\n",
    "    'ID': ['A001', 'A002', 'A003', 'A004', 'A005', 'A002', 'A005', 'A003', 'A001', 'A003', 'A001', 'A004', 'A004', 'A005'],\n",
    "    'Project': ['Project 1', 'Project 2', 'Project 3', 'Project 4', 'Project 5', 'Project 6', 'Project 7', 'Project 8', 'Project 9', \n",
    "                'Project 10', 'Project 11', 'Project 12', 'Project 13', 'Project 14'],\n",
    "    'Cost': [1002000, 2000000, 4500000, 5500000, np.nan, 680000, 400000, np.nan, 800000, 300000, 2000000, np.nan, 3000000, 200000],\n",
    "    'Status': ['Finished', 'Ongoing', 'Finished', 'Ongoing', 'Finished', 'Failed', 'Finished', 'Failed', 'Ongoing', 'Finished', \n",
    "               'Failed', 'Ongoing', 'Finished', 'Finished']\n",
    "}\n",
    "project_df = pd.DataFrame(df1)\n",
    "\n",
    "# Iterating through the 'Cost' column to replace NaN values with running average\n",
    "for i in range(len(project_df)):\n",
    "    if pd.isnull(project_df.loc[i,'Cost']):\n",
    "            project_df.loc[i, 'Cost'] = project_df['Cost'].iloc[:i].mean()\n",
    "        \n",
    "print(project_df)"
   ]
  },
  {
   "cell_type": "code",
   "execution_count": 23,
   "id": "b6081475-cc60-4e2d-b497-b1620e37df43",
   "metadata": {},
   "outputs": [
    {
     "name": "stdout",
     "output_type": "stream",
     "text": [
      "     ID Gender     City  Age First Name   LastName\n",
      "0  A001      M    Paris   25       John      Alter\n",
      "1  A002      F   London   27      Alice  Luxumberg\n",
      "2  A003      M   Berlin   29        Tom  Sabestine\n",
      "3  A004      F  Newyork   31       Nina      Adgra\n",
      "4  A005      F   Madrid   30        Amy      Johny\n"
     ]
    }
   ],
   "source": [
    "#Task 3\n",
    "\n",
    "# Splitting the name column\n",
    "df2[['First Name', 'LastName']] = df2['Name'].str.split(' ', expand=True)\n",
    "\n",
    "# Dropping the old name column\n",
    "df2.drop(columns=['Name'], inplace=True)\n",
    "\n",
    "print(df2)"
   ]
  },
  {
   "cell_type": "code",
   "execution_count": 33,
   "id": "ab73e711-3b63-491f-9a93-2a5936bc907f",
   "metadata": {},
   "outputs": [
    {
     "name": "stdout",
     "output_type": "stream",
     "text": [
      "      ID     Project          Cost    Status Gender     City  Age First Name  \\\n",
      "0   A001   Project 1  1.002000e+06  Finished      M    Paris   25       John   \n",
      "1   A001   Project 9  8.000000e+05   Ongoing      M    Paris   25       John   \n",
      "2   A001  Project 11  2.000000e+06    Failed      M    Paris   25       John   \n",
      "3   A002   Project 2  2.000000e+06   Ongoing      F   London   27      Alice   \n",
      "4   A002   Project 6  6.800000e+05    Failed      F   London   27      Alice   \n",
      "5   A003   Project 3  4.500000e+06  Finished      M   Berlin   29        Tom   \n",
      "6   A003   Project 8  2.476071e+06    Failed      M   Berlin   29        Tom   \n",
      "7   A003  Project 10  3.000000e+05  Finished      M   Berlin   29        Tom   \n",
      "8   A004   Project 4  5.500000e+06   Ongoing      F  Newyork   31       Nina   \n",
      "9   A004  Project 12  2.082597e+06   Ongoing      F  Newyork   31       Nina   \n",
      "10  A004  Project 13  3.000000e+06  Finished      F  Newyork   31       Nina   \n",
      "11  A005   Project 5  3.250500e+06  Finished      F   Madrid   30        Amy   \n",
      "12  A005   Project 7  4.000000e+05  Finished      F   Madrid   30        Amy   \n",
      "13  A005  Project 14  2.000000e+05  Finished      F   Madrid   30        Amy   \n",
      "\n",
      "     LastName  Designation Level  \n",
      "0       Alter                  2  \n",
      "1       Alter                  2  \n",
      "2       Alter                  2  \n",
      "3   Luxumberg                  2  \n",
      "4   Luxumberg                  2  \n",
      "5   Sabestine                  3  \n",
      "6   Sabestine                  3  \n",
      "7   Sabestine                  3  \n",
      "8       Adgra                  2  \n",
      "9       Adgra                  2  \n",
      "10      Adgra                  2  \n",
      "11      Johny                  3  \n",
      "12      Johny                  3  \n",
      "13      Johny                  3  \n"
     ]
    }
   ],
   "source": [
    "#Task 4:Join all three dataframes in one single dataframe. Name it “Final”\n",
    "\n",
    "# Joining dataframes\n",
    "Final = project_df.merge(df2, on='ID', how='outer').merge(df3, on='ID', how='outer')\n",
    "\n",
    "print(Final)"
   ]
  },
  {
   "cell_type": "code",
   "execution_count": 35,
   "id": "e201687b-be18-42a8-b6f3-08e0189a4a6e",
   "metadata": {},
   "outputs": [
    {
     "name": "stdout",
     "output_type": "stream",
     "text": [
      "      ID     Project          Cost    Status Gender     City  Age First Name  \\\n",
      "0   A001   Project 1  1.002000e+06  Finished      M    Paris   25       John   \n",
      "1   A001   Project 9  8.000000e+05   Ongoing      M    Paris   25       John   \n",
      "2   A001  Project 11  2.000000e+06    Failed      M    Paris   25       John   \n",
      "3   A002   Project 2  2.000000e+06   Ongoing      F   London   27      Alice   \n",
      "4   A002   Project 6  6.800000e+05    Failed      F   London   27      Alice   \n",
      "5   A003   Project 3  4.500000e+06  Finished      M   Berlin   29        Tom   \n",
      "6   A003   Project 8  2.476071e+06    Failed      M   Berlin   29        Tom   \n",
      "7   A003  Project 10  3.000000e+05  Finished      M   Berlin   29        Tom   \n",
      "8   A004   Project 4  5.500000e+06   Ongoing      F  Newyork   31       Nina   \n",
      "9   A004  Project 12  2.082597e+06   Ongoing      F  Newyork   31       Nina   \n",
      "10  A004  Project 13  3.000000e+06  Finished      F  Newyork   31       Nina   \n",
      "11  A005   Project 5  3.250500e+06  Finished      F   Madrid   30        Amy   \n",
      "12  A005   Project 7  4.000000e+05  Finished      F   Madrid   30        Amy   \n",
      "13  A005  Project 14  2.000000e+05  Finished      F   Madrid   30        Amy   \n",
      "\n",
      "     LastName  Designation Level     Bonus  \n",
      "0       Alter                  2   50100.0  \n",
      "1       Alter                  2       0.0  \n",
      "2       Alter                  2       0.0  \n",
      "3   Luxumberg                  2       0.0  \n",
      "4   Luxumberg                  2       0.0  \n",
      "5   Sabestine                  3  225000.0  \n",
      "6   Sabestine                  3       0.0  \n",
      "7   Sabestine                  3   15000.0  \n",
      "8       Adgra                  2       0.0  \n",
      "9       Adgra                  2       0.0  \n",
      "10      Adgra                  2  150000.0  \n",
      "11      Johny                  3  162525.0  \n",
      "12      Johny                  3   20000.0  \n",
      "13      Johny                  3   10000.0  \n"
     ]
    }
   ],
   "source": [
    "#Task5 \n",
    "\n",
    "# Add a new 'Bonus' column based on the condition of the project status\n",
    "Final['Bonus'] = Final.apply(lambda row: row['Cost'] * 0.05 if row['Status'] == 'Finished' else 0, axis=1)\n",
    "\n",
    "# Display the final dataframe with the new Bonus column\n",
    "print(Final)"
   ]
  },
  {
   "cell_type": "code",
   "execution_count": 36,
   "id": "2162240f-2d44-44ef-b824-ddce8d078ec1",
   "metadata": {},
   "outputs": [
    {
     "name": "stdout",
     "output_type": "stream",
     "text": [
      "      ID     Project          Cost    Status Gender     City  Age First Name  \\\n",
      "0   A001   Project 1  1.002000e+06  Finished      M    Paris   25       John   \n",
      "1   A001   Project 9  8.000000e+05   Ongoing      M    Paris   25       John   \n",
      "2   A001  Project 11  2.000000e+06    Failed      M    Paris   25       John   \n",
      "3   A002   Project 2  2.000000e+06   Ongoing      F   London   27      Alice   \n",
      "4   A002   Project 6  6.800000e+05    Failed      F   London   27      Alice   \n",
      "5   A003   Project 3  4.500000e+06  Finished      M   Berlin   29        Tom   \n",
      "6   A003   Project 8  2.476071e+06    Failed      M   Berlin   29        Tom   \n",
      "7   A003  Project 10  3.000000e+05  Finished      M   Berlin   29        Tom   \n",
      "8   A004   Project 4  5.500000e+06   Ongoing      F  Newyork   31       Nina   \n",
      "9   A004  Project 12  2.082597e+06   Ongoing      F  Newyork   31       Nina   \n",
      "10  A004  Project 13  3.000000e+06  Finished      F  Newyork   31       Nina   \n",
      "11  A005   Project 5  3.250500e+06  Finished      F   Madrid   30        Amy   \n",
      "12  A005   Project 7  4.000000e+05  Finished      F   Madrid   30        Amy   \n",
      "13  A005  Project 14  2.000000e+05  Finished      F   Madrid   30        Amy   \n",
      "\n",
      "     LastName  Designation Level     Bonus  \n",
      "0       Alter                  2   50100.0  \n",
      "1       Alter                  2       0.0  \n",
      "2       Alter                  1       0.0  \n",
      "3   Luxumberg                  2       0.0  \n",
      "4   Luxumberg                  1       0.0  \n",
      "5   Sabestine                  3  225000.0  \n",
      "6   Sabestine                  2       0.0  \n",
      "7   Sabestine                  3   15000.0  \n",
      "8       Adgra                  2       0.0  \n",
      "9       Adgra                  2       0.0  \n",
      "10      Adgra                  2  150000.0  \n",
      "11      Johny                  3  162525.0  \n",
      "12      Johny                  3   20000.0  \n",
      "13      Johny                  3   10000.0  \n"
     ]
    }
   ],
   "source": [
    "#Task6 Demote the designation level by 1, whose projects have status “fail”. Delete the\n",
    "#employees record whose designation level is above 4.\n",
    "\n",
    "Final.loc[Final['Status'] == 'Failed', 'Designation Level'] -= 1\n",
    "\n",
    "# Task 2: Delete the employee records whose designation level is above 4\n",
    "Final = Final[Final['Designation Level'] <= 4]\n",
    "\n",
    "# Display the final dataframe after performing both tasks\n",
    "print(Final)"
   ]
  },
  {
   "cell_type": "code",
   "execution_count": 37,
   "id": "a6ebc1e7-b7bf-4a1d-b76a-d3826ce417b9",
   "metadata": {},
   "outputs": [
    {
     "name": "stdout",
     "output_type": "stream",
     "text": [
      "      ID     Project          Cost    Status     City  Age  First Name  \\\n",
      "0   A001   Project 1  1.002000e+06  Finished    Paris   25    Mr. John   \n",
      "1   A001   Project 9  8.000000e+05   Ongoing    Paris   25    Mr. John   \n",
      "2   A001  Project 11  2.000000e+06    Failed    Paris   25    Mr. John   \n",
      "3   A002   Project 2  2.000000e+06   Ongoing   London   27  Mrs. Alice   \n",
      "4   A002   Project 6  6.800000e+05    Failed   London   27  Mrs. Alice   \n",
      "5   A003   Project 3  4.500000e+06  Finished   Berlin   29     Mr. Tom   \n",
      "6   A003   Project 8  2.476071e+06    Failed   Berlin   29     Mr. Tom   \n",
      "7   A003  Project 10  3.000000e+05  Finished   Berlin   29     Mr. Tom   \n",
      "8   A004   Project 4  5.500000e+06   Ongoing  Newyork   31   Mrs. Nina   \n",
      "9   A004  Project 12  2.082597e+06   Ongoing  Newyork   31   Mrs. Nina   \n",
      "10  A004  Project 13  3.000000e+06  Finished  Newyork   31   Mrs. Nina   \n",
      "11  A005   Project 5  3.250500e+06  Finished   Madrid   30    Mrs. Amy   \n",
      "12  A005   Project 7  4.000000e+05  Finished   Madrid   30    Mrs. Amy   \n",
      "13  A005  Project 14  2.000000e+05  Finished   Madrid   30    Mrs. Amy   \n",
      "\n",
      "     LastName  Designation Level     Bonus  \n",
      "0       Alter                  2   50100.0  \n",
      "1       Alter                  2       0.0  \n",
      "2       Alter                  1       0.0  \n",
      "3   Luxumberg                  2       0.0  \n",
      "4   Luxumberg                  1       0.0  \n",
      "5   Sabestine                  3  225000.0  \n",
      "6   Sabestine                  2       0.0  \n",
      "7   Sabestine                  3   15000.0  \n",
      "8       Adgra                  2       0.0  \n",
      "9       Adgra                  2       0.0  \n",
      "10      Adgra                  2  150000.0  \n",
      "11      Johny                  3  162525.0  \n",
      "12      Johny                  3   20000.0  \n",
      "13      Johny                  3   10000.0  \n"
     ]
    }
   ],
   "source": [
    "#Task7: Add “Mr.” and “Mrs.” to the first name column and drop the gender column.\n",
    "\n",
    "\n",
    "# Adding titles and dropping the gender column\n",
    "Final['First Name'] = Final['First Name'].apply(lambda x: 'Mr. ' + x if Final.loc[Final['First Name'] == x, 'Gender'].values[0] == 'M' else 'Mrs. ' + x)\n",
    "Final = Final.drop(columns=['Gender'])\n",
    "\n",
    "print(Final)"
   ]
  },
  {
   "cell_type": "code",
   "execution_count": 35,
   "id": "a8660e8e-c9fd-46be-9cba-040f8072ab43",
   "metadata": {},
   "outputs": [
    {
     "name": "stdout",
     "output_type": "stream",
     "text": [
      "      ID     Project          Cost    Status     City  Age  First Name  \\\n",
      "0   A001   Project 1  1.002000e+06  Finished    Paris   25    Mr. John   \n",
      "1   A001   Project 9  8.000000e+05   Ongoing    Paris   25    Mr. John   \n",
      "2   A001  Project 11  2.000000e+06    Failed    Paris   25    Mr. John   \n",
      "3   A002   Project 2  2.000000e+06   Ongoing   London   27  Mrs. Alice   \n",
      "4   A002   Project 6  6.800000e+05    Failed   London   27  Mrs. Alice   \n",
      "5   A003   Project 3  4.500000e+06  Finished   Berlin   29     Mr. Tom   \n",
      "6   A003   Project 8  2.476071e+06    Failed   Berlin   29     Mr. Tom   \n",
      "7   A003  Project 10  3.000000e+05  Finished   Berlin   29     Mr. Tom   \n",
      "8   A004   Project 4  5.500000e+06   Ongoing  Newyork   31   Mrs. Nina   \n",
      "9   A004  Project 12  2.082597e+06   Ongoing  Newyork   31   Mrs. Nina   \n",
      "10  A004  Project 13  3.000000e+06  Finished  Newyork   31   Mrs. Nina   \n",
      "11  A005   Project 5  3.250500e+06  Finished   Madrid   30    Mrs. Amy   \n",
      "12  A005   Project 7  4.000000e+05  Finished   Madrid   30    Mrs. Amy   \n",
      "13  A005  Project 14  2.000000e+05  Finished   Madrid   30    Mrs. Amy   \n",
      "\n",
      "     LastName  Designation Level     Bonus  \n",
      "0       Alter                  2   50100.0  \n",
      "1       Alter                  2       0.0  \n",
      "2       Alter                  2       0.0  \n",
      "3   Luxumberg                  2       0.0  \n",
      "4   Luxumberg                  2       0.0  \n",
      "5   Sabestine                  3  225000.0  \n",
      "6   Sabestine                  3       0.0  \n",
      "7   Sabestine                  3   15000.0  \n",
      "8       Adgra                  3       0.0  \n",
      "9       Adgra                  3       0.0  \n",
      "10      Adgra                  3  150000.0  \n",
      "11      Johny                  4  162525.0  \n",
      "12      Johny                  4   20000.0  \n",
      "13      Johny                  4   10000.0  \n"
     ]
    }
   ],
   "source": [
    "#Task8 :Promote designation level by 1 for the employees whose age is more than 29 years using IF condition.\n",
    "\n",
    "# Update the designation level for employees whose age is more than 29\n",
    "Final['Designation Level'] = Final['ID'].apply(\n",
    "    lambda x: Final[Final['ID'] == x]['Designation Level'].values[0] + 1 \n",
    "    if employee_df[employee_df['ID'] == x]['Age'].values[0] > 29 \n",
    "    else Final[Final['ID'] == x]['Designation Level'].values[0]\n",
    ")\n",
    "\n",
    "print(Final)"
   ]
  },
  {
   "cell_type": "code",
   "execution_count": 38,
   "id": "ed82cba9-9e40-43e7-83a3-8f75a0d7bc6b",
   "metadata": {},
   "outputs": [
    {
     "name": "stdout",
     "output_type": "stream",
     "text": [
      "     ID    Total cost First Name\n",
      "0  A001  3.802000e+06       John\n",
      "1  A002  2.680000e+06      Alice\n",
      "2  A003  7.276071e+06        Tom\n",
      "3  A004  1.058260e+07       Nina\n",
      "4  A005  3.850500e+06        Amy\n"
     ]
    }
   ],
   "source": [
    "#Task9:\n",
    "\n",
    "# Sum the cost of all projects for each employee\n",
    "total_cost = project_df.groupby('ID')['Cost'].sum().reset_index()\n",
    "\n",
    "# Merge with the employee first name\n",
    "TotalProjCost = pd.merge(total_cost, df2[['ID', 'First Name']], on='ID')\n",
    "\n",
    "# Rename the columns as required\n",
    "TotalProjCost.rename(columns={'Cost': 'Total cost'}, inplace=True)\n",
    "\n",
    "# Final DataFrame\n",
    "print(TotalProjCost)"
   ]
  },
  {
   "cell_type": "code",
   "execution_count": 40,
   "id": "1df4d360-de93-4ebd-95f0-ddfc19df1c33",
   "metadata": {},
   "outputs": [
    {
     "name": "stdout",
     "output_type": "stream",
     "text": [
      "     ID Gender     City  Age First Name   LastName\n",
      "1  A002      F   London   27      Alice  Luxumberg\n",
      "3  A004      F  Newyork   31       Nina      Adgra\n"
     ]
    }
   ],
   "source": [
    "#Task10:Print all the employee details whose city name contains the letter “o” in it.\n",
    "\n",
    "# Filter employee details where the City contains the letter \"o\"\n",
    "employees_with_o = df2[df2['City'].str.contains('o', case=False)]\n",
    "\n",
    "# Print the resulting DataFrame\n",
    "print(employees_with_o)"
   ]
  },
  {
   "cell_type": "code",
   "execution_count": null,
   "id": "36a28532-209a-4131-8d05-30cab6a19fa0",
   "metadata": {},
   "outputs": [],
   "source": []
  }
 ],
 "metadata": {
  "kernelspec": {
   "display_name": "Python 3 (ipykernel)",
   "language": "python",
   "name": "python3"
  },
  "language_info": {
   "codemirror_mode": {
    "name": "ipython",
    "version": 3
   },
   "file_extension": ".py",
   "mimetype": "text/x-python",
   "name": "python",
   "nbconvert_exporter": "python",
   "pygments_lexer": "ipython3",
   "version": "3.12.4"
  }
 },
 "nbformat": 4,
 "nbformat_minor": 5
}
